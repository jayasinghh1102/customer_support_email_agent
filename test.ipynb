{
 "cells": [
  {
   "cell_type": "code",
   "execution_count": 1,
   "id": "a64ff554",
   "metadata": {},
   "outputs": [],
   "source": [
    "from src.slm_integration import SLM_Manager"
   ]
  },
  {
   "cell_type": "code",
   "execution_count": 2,
   "id": "6a8b5588",
   "metadata": {},
   "outputs": [
    {
     "data": {
      "application/vnd.jupyter.widget-view+json": {
       "model_id": "5199088f224f4f1e83e8be213f04f693",
       "version_major": 2,
       "version_minor": 0
      },
      "text/plain": [
       "Loading checkpoint shards:   0%|          | 0/6 [00:00<?, ?it/s]"
      ]
     },
     "metadata": {},
     "output_type": "display_data"
    },
    {
     "name": "stderr",
     "output_type": "stream",
     "text": [
      "Device set to use cuda:0\n"
     ]
    }
   ],
   "source": [
    "slm_handler = SLM_Manager()\n",
    "\n",
    "slm_base = \"/home/vishal/Documents/models/Mistral-7B-Instruct-v0.3\"\n",
    "finetune_folder = \"/home/vishal/Documents/experiments-AI/Jaya/customer_support_email_agent/Mistral7B-customer-dataset-finetuned/Mistral-7B-Instruct-v0.3-customer-support-agent\"\n",
    "slm_handler.load_slm(local_base_model_path=slm_base, trained_checkpoint_location=finetune_folder)"
   ]
  },
  {
   "cell_type": "code",
   "execution_count": 3,
   "id": "c08e5f0c",
   "metadata": {},
   "outputs": [
    {
     "name": "stderr",
     "output_type": "stream",
     "text": [
      "Setting `pad_token_id` to `eos_token_id`:2 for open-end generation.\n"
     ]
    },
    {
     "name": "stdout",
     "output_type": "stream",
     "text": [
      "It appears there was a delay or error in the real-time transaction. Our system is currently investigating the cause. We apologize for the inconvenience. We will initiate a manual transfer of 1000 to your account, which should be completed within 15-30 minutes. Please do not make any other transfers during this time. We will follow up with you once the transfer is complete.\n",
      "\n",
      "Thank you for your patience. Is there anything else I can assist you with today?\n",
      "\n",
      "Best,\n",
      "[Your Name]\n",
      "Senior Support Agent\n",
      "Team [Company Name]\n"
     ]
    }
   ],
   "source": [
    "base_prompt = \"You are a helpful customer support agent. Only respond as required do not extend the conversation further. Respond in less than 150 words. Give a paragraph output, not steps\"\n",
    "user_query = \"My bank account shows 0 balance, while I had a sum of 1000 in my savings account\"\n",
    "slm_out = slm_handler.infer_slm(system_prompt=base_prompt, user_query=user_query)\n",
    "print(slm_out)"
   ]
  },
  {
   "cell_type": "code",
   "execution_count": 4,
   "id": "581c4dda",
   "metadata": {},
   "outputs": [],
   "source": [
    "slm_handler.unload_slm()"
   ]
  },
  {
   "cell_type": "code",
   "execution_count": null,
   "id": "9b4a99b1",
   "metadata": {},
   "outputs": [],
   "source": []
  },
  {
   "cell_type": "code",
   "execution_count": null,
   "id": "a4b3b0a2",
   "metadata": {},
   "outputs": [],
   "source": []
  }
 ],
 "metadata": {
  "kernelspec": {
   "display_name": ".venv",
   "language": "python",
   "name": "python3"
  },
  "language_info": {
   "codemirror_mode": {
    "name": "ipython",
    "version": 3
   },
   "file_extension": ".py",
   "mimetype": "text/x-python",
   "name": "python",
   "nbconvert_exporter": "python",
   "pygments_lexer": "ipython3",
   "version": "3.12.3"
  }
 },
 "nbformat": 4,
 "nbformat_minor": 5
}
